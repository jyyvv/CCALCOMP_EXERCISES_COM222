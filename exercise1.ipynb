{
  "cells": [
    {
      "cell_type": "markdown",
      "metadata": {
        "id": "view-in-github",
        "colab_type": "text"
      },
      "source": [
        "<a href=\"https://colab.research.google.com/github/jyyvv/CCALCOMP_EXERCISES_COM222/blob/main/exercise1.ipynb\" target=\"_parent\"><img src=\"https://colab.research.google.com/assets/colab-badge.svg\" alt=\"Open In Colab\"/></a>"
      ]
    },
    {
      "cell_type": "markdown",
      "metadata": {
        "id": "3-prKGbfwFRd"
      },
      "source": [
        "# Exercise 1"
      ]
    },
    {
      "cell_type": "markdown",
      "metadata": {
        "id": "kBW-_z9HwFRf"
      },
      "source": [
        "Please follow the instructions in each number. Do not remove or modify the pre-defined code!"
      ]
    },
    {
      "cell_type": "code",
      "execution_count": 50,
      "metadata": {
        "id": "ABAdD_ngwFRg"
      },
      "outputs": [],
      "source": [
        "# Add a vertex to the set of vertices and the graph\n",
        "def add_vertex(v):\n",
        "  global graph\n",
        "  global vertices_no\n",
        "  global vertices\n",
        "  if v in vertices:\n",
        "    print(\"Vertex \", v, \" already exists\")\n",
        "  else:\n",
        "    vertices_no = vertices_no + 1\n",
        "    vertices.append(v)\n",
        "    if vertices_no > 1:\n",
        "        for vertex in graph:\n",
        "            vertex.append(0)\n",
        "    temp = []\n",
        "    for i in range(vertices_no):\n",
        "        temp.append(0)\n",
        "    graph.append(temp)\n",
        "\n",
        "# Add an edge between vertex v1 and v2 with edge weight e\n",
        "def add_edge(v1, v2, e):\n",
        "    global graph\n",
        "    global vertices_no\n",
        "    global vertices\n",
        "    # Check if vertex v1 is a valid vertex\n",
        "    if v1 not in vertices:\n",
        "        print(\"Vertex \", v1, \" does not exist.\")\n",
        "    # Check if vertex v1 is a valid vertex\n",
        "    elif v2 not in vertices:\n",
        "        print(\"Vertex \", v2, \" does not exist.\")\n",
        "    # Since this code is not restricted to a directed or\n",
        "    # an undirected graph, an edge between v1 v2 does not\n",
        "    # imply that an edge exists between v2 and v1\n",
        "    else:\n",
        "        index1 = vertices.index(v1)\n",
        "        index2 = vertices.index(v2)\n",
        "        graph[index1][index2] = e\n",
        "\n",
        "# Print the graph\n",
        "def print_graph():\n",
        "  global graph\n",
        "  global vertices_no\n",
        "  for i in range(vertices_no):\n",
        "    for j in range(vertices_no):\n",
        "      if graph[i][j] != 0:\n",
        "        print(vertices[i], \" -> \", vertices[j],\n",
        "              \" edge weight: \", graph[i][j])"
      ]
    },
    {
      "cell_type": "code",
      "execution_count": 51,
      "metadata": {
        "id": "912w9tR0wFRh"
      },
      "outputs": [],
      "source": [
        "# stores the vertices in the graph\n",
        "vertices = []\n",
        "# stores the number of vertices in the graph\n",
        "vertices_no = 0\n",
        "graph = []"
      ]
    },
    {
      "cell_type": "markdown",
      "metadata": {
        "id": "lzkib3wYwFRh"
      },
      "source": [
        "<img src=\"https://github.com/robitussin/CCALCOMP_EXERCISES/blob/main/images/directed%20graph2.png?raw=true\"/>"
      ]
    },
    {
      "cell_type": "markdown",
      "metadata": {
        "id": "Qfh-2gbPwFRi"
      },
      "source": [
        "1. Print the edges and vertices of the graph in set representation. (`25 points`)"
      ]
    },
    {
      "cell_type": "code",
      "execution_count": 58,
      "metadata": {
        "id": "FSymqoxmwFRi",
        "outputId": "38f68734-d2a7-4089-8af2-099005fc5dee",
        "colab": {
          "base_uri": "https://localhost:8080/"
        }
      },
      "outputs": [
        {
          "output_type": "stream",
          "name": "stdout",
          "text": [
            "Vertex  A  already exists\n",
            "Vertex  B  already exists\n",
            "Vertex  C  already exists\n",
            "Vertex  D  already exists\n",
            "Vertex  E  already exists\n",
            "Edges: {('A', 'C', 12), ('C', 'B', 20), ('E', 'A', 7), ('B', 'A', 10), ('C', 'D', 32), ('A', 'D', 60)}\n",
            "Vertices: {'A', 'D', 'B', 'E', 'C'}\n"
          ]
        }
      ],
      "source": [
        "\n",
        "# Adding vertices\n",
        "add_vertex('A')\n",
        "add_vertex('B')\n",
        "add_vertex('C')\n",
        "add_vertex('D')\n",
        "add_vertex('E')\n",
        "\n",
        "# Adding edges\n",
        "add_edge('A', 'C', 12)\n",
        "add_edge('A', 'D', 60)\n",
        "add_edge('B', 'A', 10)\n",
        "add_edge('C', 'B', 20)\n",
        "add_edge('C', 'D', 32)\n",
        "add_edge('E', 'A', 7)\n",
        "\n",
        "# Printing the graph\n",
        "print_graph()\n"
      ]
    },
    {
      "cell_type": "markdown",
      "metadata": {
        "id": "NHt6QEFzwFRi"
      },
      "source": [
        "2. Implement the weighted graph in python code. Use the print_graph() function. (`25 points`)"
      ]
    },
    {
      "cell_type": "code",
      "execution_count": 59,
      "metadata": {
        "id": "fcYP9VF9wFRj",
        "outputId": "9e31dc5a-5cf3-4269-b19a-cbef3f526a48",
        "colab": {
          "base_uri": "https://localhost:8080/"
        }
      },
      "outputs": [
        {
          "output_type": "stream",
          "name": "stdout",
          "text": [
            "(A, C), edge weight: 12\n",
            "(A, D), edge weight: 60\n",
            "(B, A), edge weight: 10\n",
            "(C, B), edge weight: 20\n",
            "(C, D), edge weight: 32\n",
            "(E, A), edge weight: 7\n"
          ]
        }
      ],
      "source": [
        "# Add a vertex to the set of vertices and the graph\n",
        "def add_vertex(v):\n",
        "    global graph\n",
        "    global vertices_no\n",
        "    global vertices\n",
        "    if v in vertices:\n",
        "        print(\"Vertex \", v, \" already exists\")\n",
        "    else:\n",
        "        vertices_no = vertices_no + 1\n",
        "        vertices.append(v)\n",
        "        if vertices_no > 1:\n",
        "            for vertex in graph:\n",
        "                vertex.append(0)\n",
        "        temp = []\n",
        "        for i in range(vertices_no):\n",
        "            temp.append(0)\n",
        "        graph.append(temp)\n",
        "\n",
        "# Add an edge between vertex v1 and v2 with edge weight e\n",
        "def add_edge(v1, v2, e):\n",
        "    global graph\n",
        "    global vertices_no\n",
        "    global vertices\n",
        "    # Check if vertex v1 is a valid vertex\n",
        "    if v1 not in vertices:\n",
        "        print(\"Vertex \", v1, \" does not exist.\")\n",
        "    # Check if vertex v1 is a valid vertex\n",
        "    elif v2 not in vertices:\n",
        "        print(\"Vertex \", v2, \" does not exist.\")\n",
        "    # Since this code is not restricted to a directed or\n",
        "    # an undirected graph, an edge between v1 v2 does not\n",
        "    # imply that an edge exists between v2 and v1\n",
        "    else:\n",
        "        index1 = vertices.index(v1)\n",
        "        index2 = vertices.index(v2)\n",
        "        graph[index1][index2] = e\n",
        "\n",
        "# Print the graph\n",
        "def print_graph():\n",
        "    global graph\n",
        "    global vertices_no\n",
        "    for i in range(vertices_no):\n",
        "        for j in range(vertices_no):\n",
        "            if graph[i][j] != 0:\n",
        "                print(\"({0}, {1}), edge weight: {2}\".format(vertices[i], vertices[j], graph[i][j]))\n",
        "\n",
        "# stores the vertices in the graph\n",
        "vertices = []\n",
        "# stores the number of vertices in the graph\n",
        "vertices_no = 0\n",
        "graph = []\n",
        "\n",
        "# Adding vertices\n",
        "add_vertex('A')\n",
        "add_vertex('B')\n",
        "add_vertex('C')\n",
        "add_vertex('D')\n",
        "add_vertex('E')\n",
        "\n",
        "# Adding edges\n",
        "add_edge('A', 'C', 12)\n",
        "add_edge('A', 'D', 60)\n",
        "add_edge('B', 'A', 10)\n",
        "add_edge('C', 'B', 20)\n",
        "add_edge('C', 'D', 32)\n",
        "add_edge('E', 'A', 7)\n",
        "\n",
        "# Printing the graph\n",
        "print_graph()\n"
      ]
    },
    {
      "cell_type": "markdown",
      "metadata": {
        "id": "kD-6afNTwFRj"
      },
      "source": [
        "3. You decided to go on a trip around the philippines. Being a computer scientist, you wanted to find the optimal route that would cost the least amount of money to travel all four cities. Find the route and print the total cost of the most optimal route. (`50 points`)"
      ]
    },
    {
      "cell_type": "markdown",
      "metadata": {
        "id": "cBHIHSIewFRj"
      },
      "source": [
        "<img src=\"https://github.com/robitussin/CCALCOMP_EXERCISES/blob/main/images/trip.png?raw=true\" width=\"500\" height=\"600\"/>"
      ]
    },
    {
      "cell_type": "code",
      "execution_count": 61,
      "metadata": {
        "id": "yNwmvIXnwFRj",
        "outputId": "b630bc5e-ed20-4a1b-ea64-d06454deebf7",
        "colab": {
          "base_uri": "https://localhost:8080/"
        }
      },
      "outputs": [
        {
          "output_type": "stream",
          "name": "stdout",
          "text": [
            "Manila  ->  Tacloban  edge weight:  1000\n",
            "Manila  ->  Puerto Princessa  edge weight:  8000\n",
            "Manila  ->  Davao  edge weight:  5000\n",
            "Puerto Princessa  ->  Tacloban  edge weight:  1500\n",
            "Puerto Princessa  ->  Davao  edge weight:  4000\n",
            "Davao  ->  Tacloban  edge weight:  2000\n",
            "Edges: {('Manila', 'Puerto Princessa', 8000), ('Puerto Princessa', 'Tacloban', 1500), ('Puerto Princessa', 'Davao', 4000), ('Davao', 'Tacloban', 2000), ('Manila', 'Tacloban', 1000), ('Manila', 'Davao', 5000)}\n",
            "Vertices: {'Manila', 'Tacloban', 'Puerto Princessa', 'Davao'}\n",
            "Total Cost: 21500\n"
          ]
        }
      ],
      "source": [
        "# Initialize graph and vertices\n",
        "graph = []\n",
        "vertices = []\n",
        "\n",
        "# Add a vertex to the set of vertices and the graph\n",
        "def add_vertex(v):\n",
        "    global graph\n",
        "    global vertices\n",
        "    if v in vertices:\n",
        "        print(\"Vertex \", v, \" already exists\")\n",
        "    else:\n",
        "        vertices.append(v)\n",
        "        for row in graph:\n",
        "            row.append(0)\n",
        "        graph.append([0] * len(vertices))\n",
        "\n",
        "# Add an edge between vertex v1 and v2 with edge weight e\n",
        "def add_edge(v1, v2, e):\n",
        "    global graph\n",
        "    global vertices\n",
        "    if v1 not in vertices:\n",
        "        print(\"Vertex \", v1, \" does not exist.\")\n",
        "    elif v2 not in vertices:\n",
        "        print(\"Vertex \", v2, \" does not exist.\")\n",
        "    else:\n",
        "        index1 = vertices.index(v1)\n",
        "        index2 = vertices.index(v2)\n",
        "        graph[index1][index2] = e\n",
        "\n",
        "# Function to print the graph\n",
        "def print_graph():\n",
        "    global graph\n",
        "    global vertices\n",
        "    edges = set()\n",
        "    total_weighted_edges = 0\n",
        "    for i in range(len(vertices)):\n",
        "        for j in range(len(vertices)):\n",
        "            if graph[i][j] != 0:\n",
        "                edges.add((vertices[i], vertices[j], graph[i][j]))\n",
        "                total_weighted_edges += graph[i][j]\n",
        "                print(vertices[i], \" -> \", vertices[j], \" edge weight: \", graph[i][j])\n",
        "\n",
        "    print(\"Edges:\", edges)\n",
        "    print(\"Vertices:\", set(vertices))\n",
        "\n",
        "    # Print the total weighted edges\n",
        "    print(\"Total Cost:\", total_weighted_edges)\n",
        "\n",
        "# Add vertices (cities)\n",
        "add_vertex(\"Manila\")\n",
        "add_vertex(\"Tacloban\")\n",
        "add_vertex(\"Puerto Princessa\")\n",
        "add_vertex(\"Davao\")\n",
        "\n",
        "# Add edges (connections between cities) with associated costs\n",
        "add_edge(\"Manila\", \"Puerto Princessa\", 8000)   # Cost from Manila to Puerto Princessa\n",
        "add_edge(\"Manila\", \"Davao\", 5000)  # Cost from Manila to Davao\n",
        "add_edge(\"Puerto Princessa\", \"Davao\", 4000) # Cost from Puerto Princessa to Davao\n",
        "add_edge(\"Puerto Princessa\", \"Tacloban\", 1500)    # Cost from Puerto Princessa to Tacloban\n",
        "add_edge(\"Manila\", \"Tacloban\", 1000)   # Cost from Manila to Tacloban\n",
        "add_edge(\"Davao\", \"Tacloban\", 2000)  # Cost from Davao to Tacloban\n",
        "\n",
        "# Print the graph\n",
        "print_graph()\n"
      ]
    }
  ],
  "metadata": {
    "kernelspec": {
      "display_name": "base",
      "language": "python",
      "name": "python3"
    },
    "language_info": {
      "codemirror_mode": {
        "name": "ipython",
        "version": 3
      },
      "file_extension": ".py",
      "mimetype": "text/x-python",
      "name": "python",
      "nbconvert_exporter": "python",
      "pygments_lexer": "ipython3",
      "version": "3.9.6"
    },
    "colab": {
      "provenance": [],
      "include_colab_link": true
    }
  },
  "nbformat": 4,
  "nbformat_minor": 0
}