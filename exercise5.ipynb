{
  "cells": [
    {
      "cell_type": "markdown",
      "metadata": {
        "id": "view-in-github",
        "colab_type": "text"
      },
      "source": [
        "<a href=\"https://colab.research.google.com/github/jyyvv/CCALCOMP_EXERCISES_COM222/blob/main/exercise5.ipynb\" target=\"_parent\"><img src=\"https://colab.research.google.com/assets/colab-badge.svg\" alt=\"Open In Colab\"/></a>"
      ]
    },
    {
      "cell_type": "markdown",
      "metadata": {
        "id": "-8bYOEC8HOQ4"
      },
      "source": [
        "# Exercise 5\n",
        "\n",
        "Please follow the instructions in each number."
      ]
    },
    {
      "cell_type": "markdown",
      "metadata": {
        "id": "FEPXLUAPHOQ6"
      },
      "source": [
        "### Maximum Subarray\n",
        "Given an array of integers nums, find the subarray with the largest sum and return the sum.\n",
        "\n",
        "A subarray is a contiguous non-empty sequence of elements within an array.\n",
        "\n",
        "\n",
        "\n",
        "Example 1:\n",
        "\n",
        "Input: nums = [2,-3,4,-2,2,1,-1,4]\n",
        "\n",
        "Output: 8\n",
        "\n",
        "Explanation: The subarray [4,-2,2,1,-1,4] has the largest sum 8."
      ]
    },
    {
      "cell_type": "markdown",
      "metadata": {
        "id": "D4a-4yS4HOQ7"
      },
      "source": [
        "## Tasks"
      ]
    },
    {
      "cell_type": "markdown",
      "metadata": {
        "id": "v8mlE6kYHOQ7"
      },
      "source": [
        "1. Put your student number in a list and manually compute the maximum subarray in your student number (`10 points`)"
      ]
    },
    {
      "cell_type": "code",
      "execution_count": 2,
      "metadata": {
        "vscode": {
          "languageId": "plaintext"
        },
        "id": "YJMIVpuTHOQ8"
      },
      "outputs": [],
      "source": [
        "[2, 0, 2, 2, 1, 0, 3, 0, 5, 3] sum = 31"
      ]
    },
    {
      "cell_type": "markdown",
      "metadata": {
        "id": "nchQgI2KHOQ8"
      },
      "source": [
        "2. Write a program using a brute-force approach to get the maximum-subarray of your student number (`40 points`)"
      ]
    },
    {
      "cell_type": "code",
      "execution_count": 7,
      "metadata": {
        "vscode": {
          "languageId": "plaintext"
        },
        "id": "b9P6oe11HOQ9",
        "outputId": "e304d5aa-00e0-4122-fb91-3a38bd826c8e",
        "colab": {
          "base_uri": "https://localhost:8080/"
        }
      },
      "outputs": [
        {
          "output_type": "stream",
          "name": "stdout",
          "text": [
            "brute-force approach : 18\n"
          ]
        }
      ],
      "source": [
        "def find_max_subarray(arr):\n",
        "    n = len(arr)\n",
        "    max_sum = float('-inf')\n",
        "    max_subarray = []\n",
        "\n",
        "\n",
        "    for i in range(n):\n",
        "        for j in range(i, n):\n",
        "            current_subarray = arr[i:j+1]\n",
        "            current_sum = sum(current_subarray)\n",
        "\n",
        "\n",
        "            if current_sum > max_sum:\n",
        "                max_sum = current_sum\n",
        "                max_subarray = current_subarray\n",
        "\n",
        "    return max_sum, max_subarray\n",
        "\n",
        "\n",
        "student_number_array = [2, 0, 2, 2, 1, 0, 3, 0, 5, 3]\n",
        "\n",
        "max_sum, max_subarray = find_max_subarray(student_number_array)\n",
        "\n",
        "print(\"brute-force approach :\", max_sum)\n"
      ]
    },
    {
      "cell_type": "markdown",
      "metadata": {
        "id": "NkqAxIx_HOQ9"
      },
      "source": [
        "3. Write a program using a dynamic programming to get the maximum-subarray of your student number (`50 points`)"
      ]
    },
    {
      "cell_type": "code",
      "execution_count": 8,
      "metadata": {
        "vscode": {
          "languageId": "plaintext"
        },
        "id": "BFBp2ARLHOQ9",
        "outputId": "9fe2a74a-9e71-437d-be43-425e16334bff",
        "colab": {
          "base_uri": "https://localhost:8080/"
        }
      },
      "outputs": [
        {
          "output_type": "stream",
          "name": "stdout",
          "text": [
            "Dynamic programming: 18\n"
          ]
        }
      ],
      "source": [
        "def find_max_subarray(arr):\n",
        "    n = len(arr)\n",
        "    max_current = arr[0]\n",
        "    max_global = arr[0]\n",
        "    start = end = s = 0\n",
        "\n",
        "    for i in range(1, n):\n",
        "        if arr[i] > max_current + arr[i]:\n",
        "            max_current = arr[i]\n",
        "            s = i\n",
        "        else:\n",
        "            max_current += arr[i]\n",
        "\n",
        "        if max_current > max_global:\n",
        "            max_global = max_current\n",
        "            start = s\n",
        "            end = i\n",
        "\n",
        "    max_subarray = arr[start:end+1]\n",
        "    return max_global, max_subarray\n",
        "\n",
        "student_number_array = [2, 0, 2, 2, 1, 0, 3, 0, 5, 3]\n",
        "\n",
        "max_sum, max_subarray = find_max_subarray(student_number_array)\n",
        "\n",
        "print(\"Dynamic programming:\", max_sum)\n",
        "\n"
      ]
    }
  ],
  "metadata": {
    "colab": {
      "provenance": [],
      "include_colab_link": true
    },
    "kernelspec": {
      "display_name": "base",
      "language": "python",
      "name": "python3"
    },
    "language_info": {
      "codemirror_mode": {
        "name": "ipython",
        "version": 3
      },
      "file_extension": ".py",
      "mimetype": "text/x-python",
      "name": "python",
      "nbconvert_exporter": "python",
      "pygments_lexer": "ipython3",
      "version": "3.9.6"
    }
  },
  "nbformat": 4,
  "nbformat_minor": 0
}